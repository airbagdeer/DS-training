{
 "cells": [
  {
   "metadata": {
    "collapsed": true,
    "ExecuteTime": {
     "end_time": "2025-05-26T11:12:15.399483Z",
     "start_time": "2025-05-26T11:12:15.394953Z"
    }
   },
   "cell_type": "code",
   "source": [
    "import pandas as pd\n",
    "import numpy as np\n",
    "from sklearn.metrics import confusion_matrix\n",
    "import matplotlib.pyplot as plt"
   ],
   "id": "initial_id",
   "outputs": [],
   "execution_count": 176
  },
  {
   "metadata": {
    "ExecuteTime": {
     "end_time": "2025-05-26T12:07:15.681247Z",
     "start_time": "2025-05-26T12:07:15.668610Z"
    }
   },
   "cell_type": "code",
   "source": [
    "cancer_df = pd.read_csv('CANCER_TABLE.csv')\n",
    "diameter_column_name ='diameter (cm)'\n",
    "true_column_name = ' cancer'\n",
    "predicted_model_1_column_name = 'predicted_model_1'\n",
    "predicted_model_2_column_name = 'predicted_model_2'\n",
    "predicted_best_model_column_name = 'predicted_best_model'"
   ],
   "id": "2fd1447d16b8194d",
   "outputs": [],
   "execution_count": 265
  },
  {
   "metadata": {
    "ExecuteTime": {
     "end_time": "2025-05-26T08:53:20.178148Z",
     "start_time": "2025-05-26T08:53:20.175798Z"
    }
   },
   "cell_type": "code",
   "source": [
    "def model1(input)->bool:\n",
    "    if input[diameter_column_name] > 7:\n",
    "        return True\n",
    "    else:\n",
    "        return False"
   ],
   "id": "a50721f9d7e20a43",
   "outputs": [],
   "execution_count": 149
  },
  {
   "metadata": {
    "ExecuteTime": {
     "end_time": "2025-05-26T08:53:20.411740Z",
     "start_time": "2025-05-26T08:53:20.406420Z"
    }
   },
   "cell_type": "code",
   "source": [
    "result = cancer_df.apply(model1, axis=1)\n",
    "cancer_df[predicted_model_1_column_name] = result"
   ],
   "id": "d6d45621de89ef23",
   "outputs": [],
   "execution_count": 150
  },
  {
   "metadata": {
    "ExecuteTime": {
     "end_time": "2025-05-26T08:53:20.696830Z",
     "start_time": "2025-05-26T08:53:20.691119Z"
    }
   },
   "cell_type": "code",
   "source": "cancer_confusion_matrix = confusion_matrix(cancer_df[true_column_name], cancer_df[predicted_model_1_column_name])",
   "id": "7322b3a54239ae2d",
   "outputs": [],
   "execution_count": 151
  },
  {
   "metadata": {
    "ExecuteTime": {
     "end_time": "2025-05-26T08:53:20.875906Z",
     "start_time": "2025-05-26T08:53:20.872921Z"
    }
   },
   "cell_type": "code",
   "source": "cancer_confusion_matrix",
   "id": "bed03dfb9d59fc55",
   "outputs": [
    {
     "data": {
      "text/plain": [
       "array([[689, 118],\n",
       "       [  0, 193]])"
      ]
     },
     "execution_count": 152,
     "metadata": {},
     "output_type": "execute_result"
    }
   ],
   "execution_count": 152
  },
  {
   "metadata": {
    "ExecuteTime": {
     "end_time": "2025-05-26T08:53:21.126739Z",
     "start_time": "2025-05-26T08:53:21.123967Z"
    }
   },
   "cell_type": "code",
   "source": [
    "TN = cancer_confusion_matrix[0][0]\n",
    "FN = cancer_confusion_matrix[1][0]\n",
    "TP = cancer_confusion_matrix[1][1]\n",
    "FP = cancer_confusion_matrix[0][1]\n",
    "print('TN:', TN)\n",
    "print('FN:', FN)\n",
    "print('TP:', TP)\n",
    "print('FP:', FP)"
   ],
   "id": "33f5973ab9146a83",
   "outputs": [
    {
     "name": "stdout",
     "output_type": "stream",
     "text": [
      "TN: 689\n",
      "FN: 0\n",
      "TP: 193\n",
      "FP: 118\n"
     ]
    }
   ],
   "execution_count": 153
  },
  {
   "metadata": {},
   "cell_type": "markdown",
   "source": "If we look at our confusion matrix, we can see the model does predict most samples correctly. If we look at the weaknesses of the model, we can see a high false positive score, which means that people that didn't get cancer will be labeled with a high chance to develop one in the next year. On the counterside, we see that the false negative score is 0, which means the model will not mistakenly label people that have a high chance of developing cancer as people that have a low chance of developing cancer.\n",
   "id": "cf8499578f46261e"
  },
  {
   "metadata": {
    "ExecuteTime": {
     "end_time": "2025-05-26T08:53:21.947221Z",
     "start_time": "2025-05-26T08:53:21.945239Z"
    }
   },
   "cell_type": "code",
   "source": [
    "print('TPR: ', TN / (TN + FN))\n",
    "print('FPR: ', FP / (FP + TN))"
   ],
   "id": "d793963144e069be",
   "outputs": [
    {
     "name": "stdout",
     "output_type": "stream",
     "text": [
      "TPR:  1.0\n",
      "FPR:  0.14622057001239158\n"
     ]
    }
   ],
   "execution_count": 154
  },
  {
   "metadata": {},
   "cell_type": "markdown",
   "source": [
    "We can see out TPR is equal to 1, a perfect score! This means that when people with a high risk of developing cancer get a test result indicating they have a high risk of developing cancer, the test is correct with a very high chance.\n",
    "\n",
    "We can also see the FPR is very low, this is also good. This means we have a good false positive score-true negative ratio. In simple words, this means most people that get a result indicating they have a low chance of developing cancer, actually do have a low rate of developing cancer."
   ],
   "id": "b7f8b335fbd482ee"
  },
  {
   "metadata": {
    "ExecuteTime": {
     "end_time": "2025-05-26T08:53:24.612029Z",
     "start_time": "2025-05-26T08:53:24.608442Z"
    }
   },
   "cell_type": "code",
   "source": [
    "accuracy = (TP+TN)/(TP+TN+FP+FN)\n",
    "recall = (TP)/(TP+FN)\n",
    "precision = (TP)/(TP+FP)\n",
    "F1 = 2*recall*precision/(recall+precision)"
   ],
   "id": "caec69f30eaeb71b",
   "outputs": [],
   "execution_count": 155
  },
  {
   "metadata": {
    "ExecuteTime": {
     "end_time": "2025-05-26T08:53:25.600945Z",
     "start_time": "2025-05-26T08:53:25.598876Z"
    }
   },
   "cell_type": "code",
   "source": [
    "print('Accuracy: ', accuracy)\n",
    "print('Recall: ', recall)\n",
    "print('Precision: ', precision)\n",
    "print('F1: ', F1)"
   ],
   "id": "420341bdb57a59e5",
   "outputs": [
    {
     "name": "stdout",
     "output_type": "stream",
     "text": [
      "Accuracy:  0.882\n",
      "Recall:  1.0\n",
      "Precision:  0.6205787781350482\n",
      "F1:  0.7658730158730159\n"
     ]
    }
   ],
   "execution_count": 156
  },
  {
   "metadata": {
    "ExecuteTime": {
     "end_time": "2025-05-26T08:54:09.793171Z",
     "start_time": "2025-05-26T08:54:09.776832Z"
    }
   },
   "cell_type": "code",
   "source": [
    "diameters_sorted = (pd.Series(cancer_df[diameter_column_name].sort_values(ascending=True).values))\n",
    "\n",
    "def model2(input):\n",
    "    return diameters_sorted.searchsorted(input[diameter_column_name])/diameters_sorted.size"
   ],
   "id": "5b98dbac0516f99b",
   "outputs": [],
   "execution_count": 157
  },
  {
   "metadata": {
    "ExecuteTime": {
     "end_time": "2025-05-26T08:54:25.917549Z",
     "start_time": "2025-05-26T08:54:25.902921Z"
    }
   },
   "cell_type": "code",
   "source": [
    "result = cancer_df.apply(model2, axis=1)\n",
    "cancer_df[predicted_model_2_column_name] = result"
   ],
   "id": "ca7c2ee56fd13f5a",
   "outputs": [],
   "execution_count": 159
  },
  {
   "metadata": {},
   "cell_type": "markdown",
   "source": "This model can be better because it allows us as data scientists to choose a threshold that maximizes the customer's target. For example, if the customer is more concerned about FP we might choose a threshold that maximizes the recall.",
   "id": "758990bb848f4675"
  },
  {
   "metadata": {
    "ExecuteTime": {
     "end_time": "2025-05-26T12:00:10.098648Z",
     "start_time": "2025-05-26T12:00:10.025142Z"
    }
   },
   "cell_type": "code",
   "source": [
    "thresholds = np.arange(0, 1, 0.01)\n",
    "all_TPRs = []\n",
    "all_FPRs = []\n",
    "youdens_index = {}\n",
    "probabilities = cancer_df[predicted_model_2_column_name]\n",
    "true_labels = cancer_df[true_column_name]\n",
    "for threshold in thresholds:\n",
    "    predictions = probabilities.apply(lambda x: True if x >= threshold else False)\n",
    "    cancer_confusion_matrix = confusion_matrix(true_labels, predictions)\n",
    "\n",
    "    TN = cancer_confusion_matrix[0][0]\n",
    "    FN = cancer_confusion_matrix[1][0]\n",
    "    TP = cancer_confusion_matrix[1][1]\n",
    "    FP = cancer_confusion_matrix[0][1]\n",
    "\n",
    "    TPR = TP/(TP + FN) if TP+FN!=0 else 0\n",
    "    FPR = FP/(FP + TN) if FP+TN!=0 else 0\n",
    "\n",
    "    all_TPRs.append(TPR)\n",
    "    all_FPRs.append(FPR)\n",
    "    youdens_index[threshold] = TPR-FPR"
   ],
   "id": "f2f1a6e741a0b4ef",
   "outputs": [],
   "execution_count": 255
  },
  {
   "metadata": {
    "ExecuteTime": {
     "end_time": "2025-05-26T12:00:10.863775Z",
     "start_time": "2025-05-26T12:00:10.811109Z"
    }
   },
   "cell_type": "code",
   "source": [
    "plt.plot(all_FPRs, all_TPRs)\n",
    "plt.xlabel('FPR')\n",
    "plt.ylabel('TPR')\n",
    "\n",
    "plt.show()"
   ],
   "id": "d02e861c4a00d5de",
   "outputs": [
    {
     "data": {
      "text/plain": [
       "<Figure size 640x480 with 1 Axes>"
      ],
      "image/png": "[encoded data removed]"
     },
     "metadata": {},
     "output_type": "display_data"
    }
   ],
   "execution_count": 256
  },
  {
   "metadata": {
    "ExecuteTime": {
     "end_time": "2025-05-26T11:53:32.228322Z",
     "start_time": "2025-05-26T11:53:32.221801Z"
    }
   },
   "cell_type": "code",
   "source": [
    "from sklearn.metrics import auc\n",
    "\n",
    "print('AUC:',auc(all_FPRs, all_TPRs))"
   ],
   "id": "e67bc6077b0d67ec",
   "outputs": [
    {
     "name": "stdout",
     "output_type": "stream",
     "text": [
      "AUC: 0.9999325847025059\n"
     ]
    }
   ],
   "execution_count": 249
  },
  {
   "metadata": {},
   "cell_type": "markdown",
   "source": "If we look at the AUC and the ROC curve, we can see almost a perfect ROC. This means choosing a good threshold is quite easy, we look at the top left corner, and take the threshold from there. Mathmetically, we calculate Youden's index, which is TPR-FPR, and take the maximum:",
   "id": "4962a82e0b7f3625"
  },
  {
   "metadata": {
    "ExecuteTime": {
     "end_time": "2025-05-26T12:03:37.557203Z",
     "start_time": "2025-05-26T12:03:37.552458Z"
    }
   },
   "cell_type": "code",
   "source": [
    "best_threshold = max(youdens_index, key=youdens_index.get)\n",
    "print('Best Threshold:', best_threshold)"
   ],
   "id": "12b7b42616c6014f",
   "outputs": [
    {
     "name": "stdout",
     "output_type": "stream",
     "text": [
      "Best Threshold: 0.8\n"
     ]
    }
   ],
   "execution_count": 263
  },
  {
   "metadata": {
    "ExecuteTime": {
     "end_time": "2025-05-26T12:07:31.586286Z",
     "start_time": "2025-05-26T12:07:31.580765Z"
    }
   },
   "cell_type": "code",
   "source": [
    "def best_model(input):\n",
    "    probability = diameters_sorted.searchsorted(input[diameter_column_name])/diameters_sorted.size\n",
    "    return probability>0.8"
   ],
   "id": "3493fdaa724da322",
   "outputs": [],
   "execution_count": 266
  },
  {
   "metadata": {
    "ExecuteTime": {
     "end_time": "2025-05-26T12:07:31.868386Z",
     "start_time": "2025-05-26T12:07:31.857617Z"
    }
   },
   "cell_type": "code",
   "source": [
    "result = cancer_df.apply(best_model, axis=1)\n",
    "cancer_df[predicted_best_model_column_name] = result"
   ],
   "id": "4a3fa58348318ba4",
   "outputs": [],
   "execution_count": 267
  },
  {
   "metadata": {
    "ExecuteTime": {
     "end_time": "2025-05-26T12:07:32.279229Z",
     "start_time": "2025-05-26T12:07:32.273189Z"
    }
   },
   "cell_type": "code",
   "source": "cancer_confusion_matrix = confusion_matrix(cancer_df[true_column_name], cancer_df[predicted_best_model_column_name])",
   "id": "3479d40d57920a86",
   "outputs": [],
   "execution_count": 268
  },
  {
   "metadata": {
    "ExecuteTime": {
     "end_time": "2025-05-26T12:07:32.677338Z",
     "start_time": "2025-05-26T12:07:32.673994Z"
    }
   },
   "cell_type": "code",
   "source": "cancer_confusion_matrix",
   "id": "3bc190f7623a7dd9",
   "outputs": [
    {
     "data": {
      "text/plain": [
       "array([[801,   6],\n",
       "       [  0, 193]])"
      ]
     },
     "execution_count": 269,
     "metadata": {},
     "output_type": "execute_result"
    }
   ],
   "execution_count": 269
  },
  {
   "metadata": {
    "ExecuteTime": {
     "end_time": "2025-05-26T12:07:33.380885Z",
     "start_time": "2025-05-26T12:07:33.374869Z"
    }
   },
   "cell_type": "code",
   "source": [
    "TN = cancer_confusion_matrix[0][0]\n",
    "FN = cancer_confusion_matrix[1][0]\n",
    "TP = cancer_confusion_matrix[1][1]\n",
    "FP = cancer_confusion_matrix[0][1]\n",
    "print('TN:', TN)\n",
    "print('FN:', FN)\n",
    "print('TP:', TP)\n",
    "print('FP:', FP)"
   ],
   "id": "4ae01c00fc013570",
   "outputs": [
    {
     "name": "stdout",
     "output_type": "stream",
     "text": [
      "TN: 801\n",
      "FN: 0\n",
      "TP: 193\n",
      "FP: 6\n"
     ]
    }
   ],
   "execution_count": 270
  },
  {
   "metadata": {
    "ExecuteTime": {
     "end_time": "2025-05-26T12:08:02.244358Z",
     "start_time": "2025-05-26T12:08:02.238670Z"
    }
   },
   "cell_type": "code",
   "source": [
    "accuracy = (TP+TN)/(TP+TN+FP+FN)\n",
    "recall = (TP)/(TP+FN)\n",
    "precision = (TP)/(TP+FP)\n",
    "F1 = 2*recall*precision/(recall+precision)"
   ],
   "id": "5d48337056b6aa76",
   "outputs": [],
   "execution_count": 271
  },
  {
   "metadata": {
    "ExecuteTime": {
     "end_time": "2025-05-26T12:08:02.480146Z",
     "start_time": "2025-05-26T12:08:02.476619Z"
    }
   },
   "cell_type": "code",
   "source": [
    "print('Accuracy: ', accuracy)\n",
    "print('Recall: ', recall)\n",
    "print('Precision: ', precision)\n",
    "print('F1: ', F1)"
   ],
   "id": "fbf7d37a97279f65",
   "outputs": [
    {
     "name": "stdout",
     "output_type": "stream",
     "text": [
      "Accuracy:  0.994\n",
      "Recall:  1.0\n",
      "Precision:  0.9698492462311558\n",
      "F1:  0.9846938775510203\n"
     ]
    }
   ],
   "execution_count": 272
  },
  {
   "metadata": {},
   "cell_type": "markdown",
   "source": "This model is much better then the previous ones, all our matrics are better.",
   "id": "c0a1c059b4c4e093"
  },
  {
   "metadata": {
    "ExecuteTime": {
     "end_time": "2025-05-26T12:12:11.691378Z",
     "start_time": "2025-05-26T12:12:11.620213Z"
    }
   },
   "cell_type": "code",
   "source": [
    "from sklearn.metrics import roc_curve\n",
    "\n",
    "fpr, tpr, thresholds = roc_curve(true_labels, probabilities)\n",
    "\n",
    "plt.plot(fpr, tpr)\n",
    "plt.xlabel('FPR')\n",
    "plt.ylabel('TPR')\n",
    "\n",
    "plt.show()"
   ],
   "id": "6cbc1cb8358549ba",
   "outputs": [
    {
     "data": {
      "text/plain": [
       "<Figure size 640x480 with 1 Axes>"
      ],
      "image/png": "[encoded data removed]"
     },
     "metadata": {},
     "output_type": "display_data"
    }
   ],
   "execution_count": 276
  },
  {
   "metadata": {},
   "cell_type": "code",
   "outputs": [],
   "execution_count": null,
   "source": "",
   "id": "2ae797b9456bb8a0"
  },
  {
   "metadata": {},
   "cell_type": "code",
   "outputs": [],
   "execution_count": null,
   "source": "",
   "id": "b5910efd01d0aa2d"
  }
 ],
 "metadata": {
  "kernelspec": {
   "display_name": "Python 3",
   "language": "python",
   "name": "python3"
  },
  "language_info": {
   "codemirror_mode": {
    "name": "ipython",
    "version": 2
   },
   "file_extension": ".py",
   "mimetype": "text/x-python",
   "name": "python",
   "nbconvert_exporter": "python",
   "pygments_lexer": "ipython2",
   "version": "2.7.6"
  }
 },
 "nbformat": 4,
 "nbformat_minor": 5
}
