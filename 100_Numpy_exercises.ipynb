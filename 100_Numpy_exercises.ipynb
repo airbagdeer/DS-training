{
 "nbformat": 4,
 "nbformat_minor": 0,
 "metadata": {
  "kernelspec": {
   "display_name": "Python 3",
   "language": "python",
   "name": "python3"
  },
  "language_info": {
   "codemirror_mode": {
    "name": "ipython",
    "version": 3
   },
   "file_extension": ".py",
   "mimetype": "text/x-python",
   "name": "python",
   "nbconvert_exporter": "python",
   "pygments_lexer": "ipython3",
   "version": "3.6.3"
  },
  "colab": {
   "provenance": []
  }
 },
 "cells": [
  {
   "cell_type": "markdown",
   "metadata": {
    "id": "_GMQ5yPVggVU"
   },
   "source": [
    "# 100 numpy exercises\n",
    "\n",
    "This is a collection of exercises that have been collected in the numpy mailing list, on stack overflow and in the numpy documentation. The goal of this collection is to offer a quick reference for both old and new users but also to provide a set of exercises for those who teach.\n",
    "\n",
    "\n",
    "If you find an error or think you've a better way to solve some of them, feel free to open an issue at <https://github.com/rougier/numpy-100>"
   ]
  },
  {
   "cell_type": "markdown",
   "metadata": {
    "id": "2-d3VcNvggVV"
   },
   "source": [
    "#### 1. Import the numpy package under the name `np` (★☆☆)"
   ]
  },
  {
   "cell_type": "code",
   "metadata": {
    "id": "AeiVrEkMggVW",
    "ExecuteTime": {
     "end_time": "2025-05-19T14:09:02.262288Z",
     "start_time": "2025-05-19T14:09:02.259161Z"
    }
   },
   "source": "import numpy as np",
   "outputs": [],
   "execution_count": 166
  },
  {
   "cell_type": "markdown",
   "metadata": {
    "id": "0eet1VQvggVZ"
   },
   "source": [
    "#### 2. Print the numpy version and the configuration (★☆☆)"
   ]
  },
  {
   "cell_type": "code",
   "metadata": {
    "id": "bW0hq-sEggVZ",
    "ExecuteTime": {
     "end_time": "2025-05-19T10:38:08.482010Z",
     "start_time": "2025-05-19T10:38:08.479329Z"
    }
   },
   "source": "print(np.__version__)",
   "outputs": [
    {
     "name": "stdout",
     "output_type": "stream",
     "text": [
      "2.0.2\n"
     ]
    }
   ],
   "execution_count": 2
  },
  {
   "cell_type": "markdown",
   "metadata": {
    "id": "7y0dhJ1RggVc"
   },
   "source": [
    "#### 3. Create a null vector of size 10 (★☆☆)"
   ]
  },
  {
   "cell_type": "code",
   "metadata": {
    "id": "XzO9igD2ggVc",
    "ExecuteTime": {
     "end_time": "2025-05-19T10:39:16.817781Z",
     "start_time": "2025-05-19T10:39:16.813536Z"
    }
   },
   "source": "np.empty(10)",
   "outputs": [
    {
     "data": {
      "text/plain": [
       "array([0., 0., 0., 0., 0., 0., 0., 0., 0., 0.])"
      ]
     },
     "execution_count": 9,
     "metadata": {},
     "output_type": "execute_result"
    }
   ],
   "execution_count": 9
  },
  {
   "cell_type": "markdown",
   "metadata": {
    "id": "HG-Ud8L4ggVg"
   },
   "source": [
    "#### 4.  How to find the memory size of any array (★☆☆)"
   ]
  },
  {
   "cell_type": "code",
   "metadata": {
    "id": "v3Pcetn9ggVg",
    "ExecuteTime": {
     "end_time": "2025-05-19T10:39:23.116077Z",
     "start_time": "2025-05-19T10:39:23.112516Z"
    }
   },
   "source": [
    "a = np.empty(10)\n",
    "a.shape"
   ],
   "outputs": [
    {
     "data": {
      "text/plain": [
       "(10,)"
      ]
     },
     "execution_count": 10,
     "metadata": {},
     "output_type": "execute_result"
    }
   ],
   "execution_count": 10
  },
  {
   "cell_type": "markdown",
   "metadata": {
    "id": "IC7VBulPggVj"
   },
   "source": [
    "#### 5.  How to get the documentation of the numpy add function from the command line? (★☆☆)"
   ]
  },
  {
   "cell_type": "code",
   "metadata": {
    "id": "WQ9V-UQNggVj",
    "ExecuteTime": {
     "end_time": "2025-05-19T10:39:33.927803Z",
     "start_time": "2025-05-19T10:39:33.924768Z"
    }
   },
   "source": "np.add.__doc__",
   "outputs": [
    {
     "data": {
      "text/plain": [
       "\"add(x1, x2, /, out=None, *, where=True, casting='same_kind', order='K', dtype=None, subok=True[, signature])\\n\\nAdd arguments element-wise.\\n\\nParameters\\n----------\\nx1, x2 : array_like\\n    The arrays to be added.\\n    If ``x1.shape != x2.shape``, they must be broadcastable to a common\\n    shape (which becomes the shape of the output).\\nout : ndarray, None, or tuple of ndarray and None, optional\\n    A location into which the result is stored. If provided, it must have\\n    a shape that the inputs broadcast to. If not provided or None,\\n    a freshly-allocated array is returned. A tuple (possible only as a\\n    keyword argument) must have length equal to the number of outputs.\\nwhere : array_like, optional\\n    This condition is broadcast over the input. At locations where the\\n    condition is True, the `out` array will be set to the ufunc result.\\n    Elsewhere, the `out` array will retain its original value.\\n    Note that if an uninitialized `out` array is created via the default\\n    ``out=None``, locations within it where the condition is False will\\n    remain uninitialized.\\n**kwargs\\n    For other keyword-only arguments, see the\\n    :ref:`ufunc docs <ufuncs.kwargs>`.\\n\\nReturns\\n-------\\nadd : ndarray or scalar\\n    The sum of `x1` and `x2`, element-wise.\\n    This is a scalar if both `x1` and `x2` are scalars.\\n\\nNotes\\n-----\\nEquivalent to `x1` + `x2` in terms of array broadcasting.\\n\\nExamples\\n--------\\n>>> np.add(1.0, 4.0)\\n5.0\\n>>> x1 = np.arange(9.0).reshape((3, 3))\\n>>> x2 = np.arange(3.0)\\n>>> np.add(x1, x2)\\narray([[  0.,   2.,   4.],\\n       [  3.,   5.,   7.],\\n       [  6.,   8.,  10.]])\\n\\nThe ``+`` operator can be used as a shorthand for ``np.add`` on ndarrays.\\n\\n>>> x1 = np.arange(9.0).reshape((3, 3))\\n>>> x2 = np.arange(3.0)\\n>>> x1 + x2\\narray([[ 0.,  2.,  4.],\\n       [ 3.,  5.,  7.],\\n       [ 6.,  8., 10.]])\""
      ]
     },
     "execution_count": 11,
     "metadata": {},
     "output_type": "execute_result"
    }
   ],
   "execution_count": 11
  },
  {
   "cell_type": "markdown",
   "metadata": {
    "id": "hDElnnnkggVm"
   },
   "source": [
    "#### 6.  Create a null vector of size 10 but the fifth value which is 1 (★☆☆)"
   ]
  },
  {
   "cell_type": "code",
   "metadata": {
    "id": "HwRoLFaaggVm",
    "ExecuteTime": {
     "end_time": "2025-05-19T10:40:00.732608Z",
     "start_time": "2025-05-19T10:40:00.730521Z"
    }
   },
   "source": [
    "a = np.empty(10)\n",
    "a[4] = 1"
   ],
   "outputs": [],
   "execution_count": 13
  },
  {
   "cell_type": "markdown",
   "metadata": {
    "id": "fXOJw5PjggVp"
   },
   "source": [
    "#### 7.  Create a vector with values ranging from 10 to 49 (★☆☆)"
   ]
  },
  {
   "cell_type": "code",
   "metadata": {
    "id": "eph9cUfbggVp",
    "ExecuteTime": {
     "end_time": "2025-05-19T10:40:54.814057Z",
     "start_time": "2025-05-19T10:40:54.809642Z"
    }
   },
   "source": "np.arange(10, 50)",
   "outputs": [
    {
     "data": {
      "text/plain": [
       "array([10, 11, 12, 13, 14, 15, 16, 17, 18, 19, 20, 21, 22, 23, 24, 25, 26,\n",
       "       27, 28, 29, 30, 31, 32, 33, 34, 35, 36, 37, 38, 39, 40, 41, 42, 43,\n",
       "       44, 45, 46, 47, 48, 49])"
      ]
     },
     "execution_count": 15,
     "metadata": {},
     "output_type": "execute_result"
    }
   ],
   "execution_count": 15
  },
  {
   "cell_type": "markdown",
   "metadata": {
    "id": "VG939FuLggVs"
   },
   "source": [
    "#### 8.  Reverse a vector (first element becomes last) (★☆☆)"
   ]
  },
  {
   "cell_type": "code",
   "metadata": {
    "id": "NtCpWl1oggVs",
    "ExecuteTime": {
     "end_time": "2025-05-19T10:41:22.468282Z",
     "start_time": "2025-05-19T10:41:22.465931Z"
    }
   },
   "source": [
    "a = np.arange(10)\n",
    "a[::-1]"
   ],
   "outputs": [
    {
     "data": {
      "text/plain": [
       "array([9, 8, 7, 6, 5, 4, 3, 2, 1, 0])"
      ]
     },
     "execution_count": 18,
     "metadata": {},
     "output_type": "execute_result"
    }
   ],
   "execution_count": 18
  },
  {
   "cell_type": "markdown",
   "metadata": {
    "id": "C7vvR4EXggVu"
   },
   "source": [
    "#### 9.  Create a 3x3 matrix with values ranging from 0 to 8 (★☆☆)"
   ]
  },
  {
   "cell_type": "code",
   "metadata": {
    "id": "qriiEyLKggVu",
    "ExecuteTime": {
     "end_time": "2025-05-19T10:44:54.231782Z",
     "start_time": "2025-05-19T10:44:54.229458Z"
    }
   },
   "source": "np.arange(9).reshape(3,3)",
   "outputs": [
    {
     "data": {
      "text/plain": [
       "array([[0, 1, 2],\n",
       "       [3, 4, 5],\n",
       "       [6, 7, 8]])"
      ]
     },
     "execution_count": 20,
     "metadata": {},
     "output_type": "execute_result"
    }
   ],
   "execution_count": 20
  },
  {
   "cell_type": "markdown",
   "metadata": {
    "id": "mmuObZs7ggVx"
   },
   "source": [
    "#### 10. Find indices of non-zero elements from \\[1,2,0,0,4,0\\] (★☆☆)"
   ]
  },
  {
   "cell_type": "code",
   "metadata": {
    "id": "KzwrZszDggVx",
    "ExecuteTime": {
     "end_time": "2025-05-19T10:49:27.596012Z",
     "start_time": "2025-05-19T10:49:27.591905Z"
    }
   },
   "source": [
    "a = np.array([1,2,0,0,4,0])\n",
    "np.nonzero(a)"
   ],
   "outputs": [
    {
     "data": {
      "text/plain": [
       "(array([0, 1, 4]),)"
      ]
     },
     "execution_count": 25,
     "metadata": {},
     "output_type": "execute_result"
    }
   ],
   "execution_count": 25
  },
  {
   "cell_type": "markdown",
   "metadata": {
    "id": "cLW0yCexggV0"
   },
   "source": [
    "#### 11. Create a 3x3 identity matrix (★☆☆)"
   ]
  },
  {
   "cell_type": "code",
   "metadata": {
    "id": "3ahFlSmYggV0",
    "ExecuteTime": {
     "end_time": "2025-05-19T10:50:05.231798Z",
     "start_time": "2025-05-19T10:50:05.228177Z"
    }
   },
   "source": "np.identity(3)",
   "outputs": [
    {
     "data": {
      "text/plain": [
       "array([[1., 0., 0.],\n",
       "       [0., 1., 0.],\n",
       "       [0., 0., 1.]])"
      ]
     },
     "execution_count": 28,
     "metadata": {},
     "output_type": "execute_result"
    }
   ],
   "execution_count": 28
  },
  {
   "cell_type": "markdown",
   "metadata": {
    "id": "y93ywOWdggV2"
   },
   "source": [
    "#### 12. Create a 3x3x3 array with random values (★☆☆)"
   ]
  },
  {
   "cell_type": "code",
   "metadata": {
    "collapsed": true,
    "id": "pdzLuEvKggV3",
    "ExecuteTime": {
     "end_time": "2025-05-19T10:50:53.854064Z",
     "start_time": "2025-05-19T10:50:53.850759Z"
    }
   },
   "source": "np.random.rand(3,3,3)",
   "outputs": [
    {
     "data": {
      "text/plain": [
       "array([[[0.53702201, 0.46942121, 0.89662245],\n",
       "        [0.6114029 , 0.92785915, 0.08949424],\n",
       "        [0.50717369, 0.70715947, 0.07342646]],\n",
       "\n",
       "       [[0.82846831, 0.40198264, 0.66748642],\n",
       "        [0.51167206, 0.22565628, 0.44931237],\n",
       "        [0.43674388, 0.21250525, 0.58465536]],\n",
       "\n",
       "       [[0.58105999, 0.59475347, 0.46900309],\n",
       "        [0.44357869, 0.67900424, 0.42132795],\n",
       "        [0.73375614, 0.59702793, 0.95130958]]])"
      ]
     },
     "execution_count": 30,
     "metadata": {},
     "output_type": "execute_result"
    }
   ],
   "execution_count": 30
  },
  {
   "cell_type": "markdown",
   "metadata": {
    "id": "hqdwc5NPggV5"
   },
   "source": [
    "#### 13. Create a 10x10 array with random values and find the minimum and maximum values (★☆☆)"
   ]
  },
  {
   "cell_type": "code",
   "metadata": {
    "id": "O1fEkRWMggV6",
    "ExecuteTime": {
     "end_time": "2025-05-19T10:51:25.143021Z",
     "start_time": "2025-05-19T10:51:25.140881Z"
    }
   },
   "source": [
    "a = np.random.rand(10,10)\n",
    "print(a.min())\n",
    "print(a.max())"
   ],
   "outputs": [
    {
     "name": "stdout",
     "output_type": "stream",
     "text": [
      "0.016554526097692368\n",
      "0.9377434647933117\n"
     ]
    }
   ],
   "execution_count": 33
  },
  {
   "cell_type": "markdown",
   "metadata": {
    "id": "X4UbWF9QggV8"
   },
   "source": [
    "#### 14. Create a random vector of size 30 and find the mean value (★☆☆)"
   ]
  },
  {
   "cell_type": "code",
   "metadata": {
    "id": "J2hIWuubggV8",
    "ExecuteTime": {
     "end_time": "2025-05-19T10:51:47.403991Z",
     "start_time": "2025-05-19T10:51:47.401353Z"
    }
   },
   "source": [
    "a = np.random.rand(30)\n",
    "a.mean()"
   ],
   "outputs": [
    {
     "data": {
      "text/plain": [
       "np.float64(0.45435977660009536)"
      ]
     },
     "execution_count": 34,
     "metadata": {},
     "output_type": "execute_result"
    }
   ],
   "execution_count": 34
  },
  {
   "cell_type": "markdown",
   "metadata": {
    "id": "_V65shrsggV-"
   },
   "source": [
    "#### 15. Create a 2d array with 1 on the border and 0 inside (★☆☆)"
   ]
  },
  {
   "metadata": {
    "ExecuteTime": {
     "end_time": "2025-05-19T11:13:20.529692Z",
     "start_time": "2025-05-19T11:13:20.526954Z"
    }
   },
   "cell_type": "code",
   "source": [
    "size_of_array = 4\n",
    "a = np.ones((size_of_array, size_of_array))\n",
    "a[1:-1,1:-1] = 0\n",
    "print(a)"
   ],
   "outputs": [
    {
     "name": "stdout",
     "output_type": "stream",
     "text": [
      "[[1. 1. 1. 1.]\n",
      " [1. 0. 0. 1.]\n",
      " [1. 0. 0. 1.]\n",
      " [1. 1. 1. 1.]]\n"
     ]
    }
   ],
   "execution_count": 52
  },
  {
   "cell_type": "markdown",
   "metadata": {
    "id": "hWQ2bQn9ggWB"
   },
   "source": [
    "#### 16. How to add a border (filled with 0's) around an existing array? (★☆☆)"
   ]
  },
  {
   "cell_type": "code",
   "metadata": {
    "id": "3KJABzrDggWB",
    "ExecuteTime": {
     "end_time": "2025-05-19T11:24:38.525980Z",
     "start_time": "2025-05-19T11:24:38.521451Z"
    }
   },
   "source": [
    "size_of_array = 4\n",
    "a = np.ones((size_of_array, size_of_array))\n",
    "a = np.pad(a, pad_width=1, mode='constant', constant_values=0)\n",
    "a"
   ],
   "outputs": [
    {
     "data": {
      "text/plain": [
       "array([[0., 0., 0., 0., 0., 0.],\n",
       "       [0., 1., 1., 1., 1., 0.],\n",
       "       [0., 1., 1., 1., 1., 0.],\n",
       "       [0., 1., 1., 1., 1., 0.],\n",
       "       [0., 1., 1., 1., 1., 0.],\n",
       "       [0., 0., 0., 0., 0., 0.]])"
      ]
     },
     "execution_count": 71,
     "metadata": {},
     "output_type": "execute_result"
    }
   ],
   "execution_count": 71
  },
  {
   "cell_type": "markdown",
   "metadata": {
    "id": "94Qg79XOggWE"
   },
   "source": [
    "#### 17. What is the result of the following expression? (★☆☆)"
   ]
  },
  {
   "cell_type": "markdown",
   "metadata": {
    "id": "PdYGySoUggWF"
   },
   "source": [
    "```python\n",
    "0 * np.nan\n",
    "np.nan == np.nan\n",
    "np.inf > np.nan\n",
    "np.nan - np.nan\n",
    "np.nan in set([np.nan])\n",
    "0.3 == 3 * 0.1\n",
    "```"
   ]
  },
  {
   "metadata": {},
   "cell_type": "markdown",
   "source": [
    "0\n",
    "True\n",
    "True\n",
    "nan\n",
    "True\n",
    "False"
   ]
  },
  {
   "metadata": {},
   "cell_type": "markdown",
   "source": "After checking I was wrong in 1,2,3 and right in 4,5,6"
  },
  {
   "cell_type": "markdown",
   "metadata": {
    "id": "sx9SsgHAggWH"
   },
   "source": [
    "#### 18. Create a 5x5 matrix with values 1,2,3,4 just below the diagonal (★☆☆)"
   ]
  },
  {
   "cell_type": "code",
   "metadata": {
    "id": "dEYSGP-gggWH",
    "ExecuteTime": {
     "end_time": "2025-05-19T11:30:36.743071Z",
     "start_time": "2025-05-19T11:30:36.735067Z"
    }
   },
   "source": "np.diag([1,2,3,4], k=-1)",
   "outputs": [
    {
     "data": {
      "text/plain": [
       "array([[0, 0, 0, 0, 0],\n",
       "       [1, 0, 0, 0, 0],\n",
       "       [0, 2, 0, 0, 0],\n",
       "       [0, 0, 3, 0, 0],\n",
       "       [0, 0, 0, 4, 0]])"
      ]
     },
     "execution_count": 83,
     "metadata": {},
     "output_type": "execute_result"
    }
   ],
   "execution_count": 83
  },
  {
   "cell_type": "markdown",
   "metadata": {
    "id": "IAPCj0fTggWJ"
   },
   "source": [
    "#### 19. Create a 8x8 matrix and fill it with a checkerboard pattern (★☆☆)"
   ]
  },
  {
   "cell_type": "code",
   "metadata": {
    "id": "hnmyeFNIggWJ",
    "ExecuteTime": {
     "end_time": "2025-05-19T11:34:30.107680Z",
     "start_time": "2025-05-19T11:34:30.102565Z"
    }
   },
   "source": [
    "checkerboard = np.zeros((8,8))\n",
    "checkerboard[1::2, ::2] = 1\n",
    "checkerboard[::2, 1::2] = 1\n",
    "checkerboard"
   ],
   "outputs": [
    {
     "data": {
      "text/plain": [
       "array([[0., 1., 0., 1., 0., 1., 0., 1.],\n",
       "       [1., 0., 1., 0., 1., 0., 1., 0.],\n",
       "       [0., 1., 0., 1., 0., 1., 0., 1.],\n",
       "       [1., 0., 1., 0., 1., 0., 1., 0.],\n",
       "       [0., 1., 0., 1., 0., 1., 0., 1.],\n",
       "       [1., 0., 1., 0., 1., 0., 1., 0.],\n",
       "       [0., 1., 0., 1., 0., 1., 0., 1.],\n",
       "       [1., 0., 1., 0., 1., 0., 1., 0.]])"
      ]
     },
     "execution_count": 85,
     "metadata": {},
     "output_type": "execute_result"
    }
   ],
   "execution_count": 85
  },
  {
   "cell_type": "markdown",
   "metadata": {
    "id": "QQaRYpzCggWL"
   },
   "source": [
    "#### 20. Consider a (6,7,8) shape array, what is the index (x,y,z) of the 100th element?"
   ]
  },
  {
   "metadata": {
    "ExecuteTime": {
     "end_time": "2025-05-19T12:39:09.221326Z",
     "start_time": "2025-05-19T12:39:09.217570Z"
    }
   },
   "cell_type": "code",
   "source": "np.unravel_index(99, (6,7,8))",
   "outputs": [
    {
     "data": {
      "text/plain": [
       "(np.int64(1), np.int64(5), np.int64(3))"
      ]
     },
     "execution_count": 88,
     "metadata": {},
     "output_type": "execute_result"
    }
   ],
   "execution_count": 88
  },
  {
   "cell_type": "markdown",
   "metadata": {
    "id": "0x9-oDD-ggWN"
   },
   "source": [
    "#### 21. Create a checkerboard 8x8 matrix using the tile function (★☆☆)"
   ]
  },
  {
   "cell_type": "code",
   "metadata": {
    "id": "Shm2wtgUggWO",
    "ExecuteTime": {
     "end_time": "2025-05-19T13:27:52.567078Z",
     "start_time": "2025-05-19T13:27:52.564390Z"
    }
   },
   "source": "np.tile(np.array([[1,0,1,0,1,0,1,0],[0,1,0,1,0,1,0,1]]), (4,1))",
   "outputs": [
    {
     "data": {
      "text/plain": [
       "array([[1, 0, 1, 0, 1, 0, 1, 0],\n",
       "       [0, 1, 0, 1, 0, 1, 0, 1],\n",
       "       [1, 0, 1, 0, 1, 0, 1, 0],\n",
       "       [0, 1, 0, 1, 0, 1, 0, 1],\n",
       "       [1, 0, 1, 0, 1, 0, 1, 0],\n",
       "       [0, 1, 0, 1, 0, 1, 0, 1],\n",
       "       [1, 0, 1, 0, 1, 0, 1, 0],\n",
       "       [0, 1, 0, 1, 0, 1, 0, 1]])"
      ]
     },
     "execution_count": 90,
     "metadata": {},
     "output_type": "execute_result"
    }
   ],
   "execution_count": 90
  },
  {
   "cell_type": "markdown",
   "metadata": {
    "id": "2y95vDUnggWR"
   },
   "source": [
    "#### 22. Normalize a 5x5 random matrix (★☆☆)"
   ]
  },
  {
   "cell_type": "code",
   "metadata": {
    "id": "n-ngkVGlggWR",
    "ExecuteTime": {
     "end_time": "2025-05-19T13:33:06.187286Z",
     "start_time": "2025-05-19T13:33:06.184713Z"
    }
   },
   "source": [
    "arr = np.random.rand(5,5)\n",
    "norm_arr = (arr - arr.mean()) / arr.std()\n",
    "norm_arr"
   ],
   "outputs": [
    {
     "data": {
      "text/plain": [
       "array([[-0.72586364,  1.16550602, -0.58008489, -0.43624952, -0.07753124],\n",
       "       [ 0.46435761, -1.45800484,  0.003723  ,  1.43983081, -0.82149746],\n",
       "       [-0.01488561,  1.37476247, -1.534749  ,  1.40567391, -0.04115446],\n",
       "       [-1.43593585,  1.18027476,  0.26127364, -0.80096156, -1.35848826],\n",
       "       [ 0.6813765 ,  0.97311838, -1.09450992, -0.18702321,  1.61704236]])"
      ]
     },
     "execution_count": 98,
     "metadata": {},
     "output_type": "execute_result"
    }
   ],
   "execution_count": 98
  },
  {
   "cell_type": "markdown",
   "metadata": {
    "id": "oRkN-g25ggWU"
   },
   "source": [
    "#### 23. Create a custom dtype that describes a color as four unsigned bytes (RGBA) (★☆☆)"
   ]
  },
  {
   "cell_type": "code",
   "metadata": {
    "collapsed": true,
    "id": "2WlnpHqMggWU",
    "ExecuteTime": {
     "end_time": "2025-05-19T13:37:42.934759Z",
     "start_time": "2025-05-19T13:37:42.929578Z"
    }
   },
   "source": [
    "RGBA = np.dtype([('r', np.uint32), ('g', np.uint32), ('b', np.uint32), ('a', np.uint32)])\n",
    "RGBA"
   ],
   "outputs": [
    {
     "data": {
      "text/plain": [
       "dtype([('r', '<u4'), ('g', '<u4'), ('b', '<u4'), ('a', '<u4')])"
      ]
     },
     "execution_count": 100,
     "metadata": {},
     "output_type": "execute_result"
    }
   ],
   "execution_count": 100
  },
  {
   "cell_type": "markdown",
   "metadata": {
    "id": "0UMdUf09ggWW"
   },
   "source": [
    "#### 24. Multiply a 5x3 matrix by a 3x2 matrix (real matrix product) (★☆☆)"
   ]
  },
  {
   "cell_type": "code",
   "metadata": {
    "id": "gErFAnRyggWX",
    "ExecuteTime": {
     "end_time": "2025-05-19T13:38:36.863267Z",
     "start_time": "2025-05-19T13:38:36.860724Z"
    }
   },
   "source": "np.dot(np.random.rand(5,3), np.random.rand(3,2))",
   "outputs": [
    {
     "data": {
      "text/plain": [
       "array([[0.72211808, 0.29353032],\n",
       "       [0.85780116, 0.38263998],\n",
       "       [0.74869274, 0.44392995],\n",
       "       [0.7690525 , 0.5797667 ],\n",
       "       [0.53101244, 0.44968644]])"
      ]
     },
     "execution_count": 104,
     "metadata": {},
     "output_type": "execute_result"
    }
   ],
   "execution_count": 104
  },
  {
   "cell_type": "markdown",
   "metadata": {
    "id": "eWgU4pNlggWY"
   },
   "source": [
    "#### 25. Given a 1D array, negate all elements which are between 3 and 8, in place. (★☆☆)"
   ]
  },
  {
   "cell_type": "code",
   "metadata": {
    "id": "Ht-9mFSkggWZ",
    "ExecuteTime": {
     "end_time": "2025-05-19T13:42:04.205466Z",
     "start_time": "2025-05-19T13:42:04.198228Z"
    }
   },
   "source": [
    "a = np.arange(1,10)\n",
    "np.delete(a, range(3,8))"
   ],
   "outputs": [
    {
     "data": {
      "text/plain": [
       "array([1, 2, 3, 9])"
      ]
     },
     "execution_count": 106,
     "metadata": {},
     "output_type": "execute_result"
    }
   ],
   "execution_count": 106
  },
  {
   "cell_type": "markdown",
   "metadata": {
    "id": "yR3oLsOqggWb"
   },
   "source": [
    "#### 26. What is the output of the following script? (★☆☆)"
   ]
  },
  {
   "cell_type": "markdown",
   "metadata": {
    "id": "60_hSUO3ggWc"
   },
   "source": [
    "```python\n",
    "# Author: Jake VanderPlas\n",
    "\n",
    "print(sum(range(5),-1))\n",
    "from numpy import *\n",
    "print(sum(range(5),-1))\n",
    "```"
   ]
  },
  {
   "metadata": {
    "ExecuteTime": {
     "end_time": "2025-05-19T13:47:44.302949Z",
     "start_time": "2025-05-19T13:47:44.299908Z"
    }
   },
   "cell_type": "code",
   "source": [
    "print(sum(range(5),-1))\n",
    "from numpy import *\n",
    "print(sum(range(5),-1))"
   ],
   "outputs": [
    {
     "name": "stdout",
     "output_type": "stream",
     "text": [
      "10\n",
      "10\n"
     ]
    }
   ],
   "execution_count": 125
  },
  {
   "cell_type": "markdown",
   "metadata": {
    "id": "03Pl_0MPggWe"
   },
   "source": [
    "#### 27. Consider an integer vector Z, which of these expressions are legal? (★☆☆)"
   ]
  },
  {
   "cell_type": "markdown",
   "metadata": {
    "id": "C3tN097_ggWf"
   },
   "source": [
    "```python\n",
    "Z**Z\n",
    "2 << Z >> 2\n",
    "Z <- Z\n",
    "1j*Z\n",
    "Z/1/1\n",
    "Z<Z>Z\n",
    "```"
   ]
  },
  {
   "metadata": {},
   "cell_type": "markdown",
   "source": "ok, ok, ok, ok, ok, not ok"
  },
  {
   "cell_type": "markdown",
   "metadata": {
    "id": "-E4xHs4fggWh"
   },
   "source": "#### 28. What are the result of the following expressions?"
  },
  {
   "cell_type": "markdown",
   "metadata": {
    "id": "2fj9K9oQggWi"
   },
   "source": [
    "```python\n",
    "np.array(0) / np.array(0)\n",
    "np.array(0) // np.array(0)\n",
    "np.array([np.nan]).astype(int).astype(float)\n",
    "```"
   ]
  },
  {
   "metadata": {},
   "cell_type": "markdown",
   "source": "0,0,0"
  },
  {
   "cell_type": "markdown",
   "metadata": {
    "id": "NdZhdSNcggWk"
   },
   "source": [
    "#### 29. How to round away from zero a float array ? (★☆☆)"
   ]
  },
  {
   "cell_type": "code",
   "metadata": {
    "id": "dZw5OCZQggWl",
    "ExecuteTime": {
     "end_time": "2025-05-19T14:00:57.812260Z",
     "start_time": "2025-05-19T14:00:57.809891Z"
    }
   },
   "source": "np.ceil(np.arange(1,5,0.5))",
   "outputs": [
    {
     "data": {
      "text/plain": [
       "array([1., 2., 2., 3., 3., 4., 4., 5.])"
      ]
     },
     "execution_count": 157,
     "metadata": {},
     "output_type": "execute_result"
    }
   ],
   "execution_count": 157
  },
  {
   "cell_type": "markdown",
   "metadata": {
    "id": "M9RIUoeHggWm"
   },
   "source": [
    "#### 30. How to find common values between two arrays? (★☆☆)"
   ]
  },
  {
   "cell_type": "code",
   "metadata": {
    "id": "5v1ozw3hggWn",
    "ExecuteTime": {
     "end_time": "2025-05-19T14:03:13.966299Z",
     "start_time": "2025-05-19T14:03:13.963140Z"
    }
   },
   "source": [
    "a = np.arange(0,10)\n",
    "b = np.arange(5,15)\n",
    "np.intersect1d(a,b)"
   ],
   "outputs": [
    {
     "data": {
      "text/plain": [
       "array([5, 6, 7, 8, 9])"
      ]
     },
     "execution_count": 163,
     "metadata": {},
     "output_type": "execute_result"
    }
   ],
   "execution_count": 163
  },
  {
   "cell_type": "markdown",
   "metadata": {
    "id": "lExwz9BBggWp"
   },
   "source": [
    "#### 31. How to ignore all numpy warnings (not recommended)? (★☆☆)"
   ]
  },
  {
   "cell_type": "code",
   "metadata": {
    "id": "qFiVYyQkggWp",
    "ExecuteTime": {
     "end_time": "2025-05-19T14:06:43.484358Z",
     "start_time": "2025-05-19T14:06:43.479165Z"
    }
   },
   "source": "np.testing.suppress_warnings()",
   "outputs": [
    {
     "data": {
      "text/plain": [
       "<numpy.testing._private.utils.suppress_warnings at 0x10b9a12e0>"
      ]
     },
     "execution_count": 164,
     "metadata": {},
     "output_type": "execute_result"
    }
   ],
   "execution_count": 164
  },
  {
   "cell_type": "markdown",
   "metadata": {
    "id": "Hm1c-kVVggWr"
   },
   "source": [
    "#### 32. Is the following expressions true? (★☆☆)"
   ]
  },
  {
   "cell_type": "markdown",
   "metadata": {
    "id": "uLlqb-D5ggWr"
   },
   "source": [
    "```python\n",
    "np.sqrt(-1) == np.emath.sqrt(-1)\n",
    "```"
   ]
  },
  {
   "cell_type": "code",
   "metadata": {
    "id": "96clKmi1ggWr",
    "ExecuteTime": {
     "end_time": "2025-05-19T14:09:48.695198Z",
     "start_time": "2025-05-19T14:09:48.691887Z"
    }
   },
   "source": "np.sqrt(-1) == np.emath.sqrt(-1)",
   "outputs": [
    {
     "name": "stderr",
     "output_type": "stream",
     "text": [
      "/var/folders/w1/14phfw6x1999f3nzbsy9q0tw0000gn/T/ipykernel_2238/2961820512.py:1: RuntimeWarning: invalid value encountered in sqrt\n",
      "  np.sqrt(-1) == np.emath.sqrt(-1)\n"
     ]
    },
    {
     "data": {
      "text/plain": [
       "np.False_"
      ]
     },
     "execution_count": 172,
     "metadata": {},
     "output_type": "execute_result"
    }
   ],
   "execution_count": 172
  },
  {
   "cell_type": "markdown",
   "metadata": {
    "id": "L-26AoLPggWt"
   },
   "source": [
    "#### 33. How to get the dates of yesterday, today and tomorrow? (★☆☆)"
   ]
  },
  {
   "cell_type": "code",
   "metadata": {
    "collapsed": true,
    "id": "8pRRVKvfggWt",
    "ExecuteTime": {
     "end_time": "2025-05-19T14:18:11.322402Z",
     "start_time": "2025-05-19T14:18:11.316530Z"
    }
   },
   "source": [
    "today = np.datetime64('today', 'D')\n",
    "yesterday = today - np.timedelta64(1, 'D')\n",
    "tomorrow = today + np.timedelta64(1,\"D\")"
   ],
   "outputs": [
    {
     "data": {
      "text/plain": [
       "np.datetime64('2025-05-20')"
      ]
     },
     "execution_count": 187,
     "metadata": {},
     "output_type": "execute_result"
    }
   ],
   "execution_count": 187
  },
  {
   "cell_type": "markdown",
   "metadata": {
    "id": "lRyauzFbggWw"
   },
   "source": [
    "#### 34. How to get all the dates corresponding to the month of July 2016? (★★☆)"
   ]
  },
  {
   "cell_type": "code",
   "metadata": {
    "id": "nQyq0sTpggWx",
    "ExecuteTime": {
     "end_time": "2025-05-19T14:20:38.031970Z",
     "start_time": "2025-05-19T14:20:38.027503Z"
    }
   },
   "source": "np.arange('2016-07-01', '2016-08-01', dtype='datetime64[D]')",
   "outputs": [
    {
     "data": {
      "text/plain": [
       "array(['2016-07-01', '2016-07-02', '2016-07-03', '2016-07-04',\n",
       "       '2016-07-05', '2016-07-06', '2016-07-07', '2016-07-08',\n",
       "       '2016-07-09', '2016-07-10', '2016-07-11', '2016-07-12',\n",
       "       '2016-07-13', '2016-07-14', '2016-07-15', '2016-07-16',\n",
       "       '2016-07-17', '2016-07-18', '2016-07-19', '2016-07-20',\n",
       "       '2016-07-21', '2016-07-22', '2016-07-23', '2016-07-24',\n",
       "       '2016-07-25', '2016-07-26', '2016-07-27', '2016-07-28',\n",
       "       '2016-07-29', '2016-07-30', '2016-07-31'], dtype='datetime64[D]')"
      ]
     },
     "execution_count": 189,
     "metadata": {},
     "output_type": "execute_result"
    }
   ],
   "execution_count": 189
  },
  {
   "cell_type": "markdown",
   "metadata": {
    "id": "GvF4WZ_FggW0"
   },
   "source": "#### 35. How to compute ((A+B)\\*(-A/2)) in place (without copy)? (★★☆)"
  },
  {
   "cell_type": "code",
   "metadata": {
    "id": "8TLaKakqggW1",
    "ExecuteTime": {
     "end_time": "2025-05-19T14:27:23.503973Z",
     "start_time": "2025-05-19T14:27:23.499839Z"
    }
   },
   "source": [
    "a = np.arange(10, dtype=np.float64)\n",
    "b = np.arange(5, 15, dtype=np.float64)\n",
    "\n",
    "np.add(a,b, out=b)\n",
    "np.divide(a,2, out=a)\n",
    "np.negative(a, out=a)\n",
    "np.multiply(a,b, out=a)"
   ],
   "outputs": [
    {
     "data": {
      "text/plain": [
       "array([  -0. ,   -3.5,   -9. ,  -16.5,  -26. ,  -37.5,  -51. ,  -66.5,\n",
       "        -84. , -103.5])"
      ]
     },
     "execution_count": 205,
     "metadata": {},
     "output_type": "execute_result"
    }
   ],
   "execution_count": 205
  },
  {
   "cell_type": "markdown",
   "metadata": {
    "id": "JW2LDaiJggW4"
   },
   "source": [
    "#### 36. Extract the integer part of a random array using 5 different methods (★★☆)"
   ]
  },
  {
   "cell_type": "code",
   "metadata": {
    "id": "tjS_UCEUggW4",
    "ExecuteTime": {
     "end_time": "2025-05-19T14:34:03.807599Z",
     "start_time": "2025-05-19T14:34:03.802043Z"
    }
   },
   "source": [
    "a = np.arange(0,5,0.5, dtype=np.float64)\n",
    "a1 = a.astype(np.int32)\n",
    "a2 = np.round(a)\n",
    "a3 = a//1\n",
    "a4 = a - a%1\n",
    "a5 = np.floor(a)"
   ],
   "outputs": [],
   "execution_count": 223
  },
  {
   "cell_type": "markdown",
   "metadata": {
    "id": "qh7-fymHggW6"
   },
   "source": [
    "#### 37. Create a 5x5 matrix with row values ranging from 0 to 4 (★★☆)"
   ]
  },
  {
   "cell_type": "code",
   "metadata": {
    "id": "lrKcOQk4ggW6",
    "ExecuteTime": {
     "end_time": "2025-05-19T14:34:47.517503Z",
     "start_time": "2025-05-19T14:34:47.514712Z"
    }
   },
   "source": "np.tile(np.arange(1,5), (5,1))",
   "outputs": [
    {
     "data": {
      "text/plain": [
       "array([[1, 2, 3, 4],\n",
       "       [1, 2, 3, 4],\n",
       "       [1, 2, 3, 4],\n",
       "       [1, 2, 3, 4],\n",
       "       [1, 2, 3, 4]])"
      ]
     },
     "execution_count": 225,
     "metadata": {},
     "output_type": "execute_result"
    }
   ],
   "execution_count": 225
  },
  {
   "cell_type": "markdown",
   "metadata": {
    "id": "WZDqaOTpggW8"
   },
   "source": [
    "#### 38. Consider a generator function that generates 10 integers and use it to build an array (★☆☆)"
   ]
  },
  {
   "cell_type": "code",
   "metadata": {
    "id": "oEBbyX-hggW9",
    "ExecuteTime": {
     "end_time": "2025-05-19T14:40:21.179508Z",
     "start_time": "2025-05-19T14:40:21.174890Z"
    }
   },
   "source": [
    "def generate_number(amount):\n",
    "    for i in range(amount):\n",
    "        yield i\n",
    "\n",
    "np.fromiter(generate_number(10), dtype=np.int32)"
   ],
   "outputs": [
    {
     "data": {
      "text/plain": [
       "array([0, 1, 2, 3, 4, 5, 6, 7, 8, 9], dtype=int32)"
      ]
     },
     "execution_count": 235,
     "metadata": {},
     "output_type": "execute_result"
    }
   ],
   "execution_count": 235
  },
  {
   "cell_type": "markdown",
   "metadata": {
    "id": "lpKCcxJpggW_"
   },
   "source": [
    "#### 39. Create a vector of size 10 with values ranging from 0 to 1, both excluded (★★☆)"
   ]
  },
  {
   "cell_type": "code",
   "metadata": {
    "id": "QLGw01MJggW_",
    "ExecuteTime": {
     "end_time": "2025-05-19T14:53:02.868200Z",
     "start_time": "2025-05-19T14:53:02.858294Z"
    }
   },
   "source": [
    "np.random.rand(10)\n",
    "a= np.arange(0,10)\n",
    "a.where(a==0)"
   ],
   "outputs": [
    {
     "ename": "AttributeError",
     "evalue": "'numpy.ndarray' object has no attribute 'where'",
     "output_type": "error",
     "traceback": [
      "\u001B[0;31m---------------------------------------------------------------------------\u001B[0m",
      "\u001B[0;31mAttributeError\u001B[0m                            Traceback (most recent call last)",
      "Cell \u001B[0;32mIn[240], line 3\u001B[0m\n\u001B[1;32m      1\u001B[0m np\u001B[38;5;241m.\u001B[39mrandom\u001B[38;5;241m.\u001B[39mrand(\u001B[38;5;241m10\u001B[39m)\n\u001B[1;32m      2\u001B[0m a\u001B[38;5;241m=\u001B[39m np\u001B[38;5;241m.\u001B[39marange(\u001B[38;5;241m0\u001B[39m,\u001B[38;5;241m10\u001B[39m)\n\u001B[0;32m----> 3\u001B[0m \u001B[43ma\u001B[49m\u001B[38;5;241;43m.\u001B[39;49m\u001B[43mwhere\u001B[49m(a\u001B[38;5;241m==\u001B[39m\u001B[38;5;241m0\u001B[39m)\n",
      "\u001B[0;31mAttributeError\u001B[0m: 'numpy.ndarray' object has no attribute 'where'"
     ]
    }
   ],
   "execution_count": 240
  },
  {
   "cell_type": "markdown",
   "metadata": {
    "id": "9WwRjwMEggXB"
   },
   "source": [
    "#### 40. Create a random vector of size 10 and sort it (★★☆)"
   ]
  },
  {
   "cell_type": "code",
   "metadata": {
    "id": "xQhrxZ4TggXB"
   },
   "source": [],
   "execution_count": null,
   "outputs": []
  },
  {
   "cell_type": "markdown",
   "metadata": {
    "id": "cDuCvVaoggXF"
   },
   "source": [
    "#### 41. How to sum a small array faster than np.sum? (★★☆)"
   ]
  },
  {
   "cell_type": "code",
   "metadata": {
    "id": "ETTwdJyyggXF"
   },
   "source": [],
   "execution_count": null,
   "outputs": []
  },
  {
   "cell_type": "markdown",
   "metadata": {
    "id": "UC95jccIggXK"
   },
   "source": [
    "#### 42. Consider two random array A and B, check if they are equal (★★☆)"
   ]
  },
  {
   "cell_type": "code",
   "metadata": {
    "id": "2LW1EMV1ggXK"
   },
   "source": [],
   "execution_count": null,
   "outputs": []
  },
  {
   "cell_type": "markdown",
   "metadata": {
    "id": "00zhjzMpggXL"
   },
   "source": [
    "#### 43. Make an array immutable (read-only) (★★☆)"
   ]
  },
  {
   "cell_type": "code",
   "metadata": {
    "id": "E-3yFv9-ggXM"
   },
   "source": [],
   "execution_count": null,
   "outputs": []
  },
  {
   "cell_type": "markdown",
   "metadata": {
    "id": "IL3G4FXwggXO"
   },
   "source": [
    "#### 44. Consider a random 10x2 matrix representing cartesian coordinates, convert them to polar coordinates (★★☆)"
   ]
  },
  {
   "cell_type": "code",
   "metadata": {
    "id": "ThqYgysEggXP"
   },
   "source": [],
   "execution_count": null,
   "outputs": []
  },
  {
   "cell_type": "markdown",
   "metadata": {
    "id": "Vv3UvIskggXQ"
   },
   "source": [
    "#### 45. Create random vector of size 10 and replace the maximum value by 0 (★★☆)"
   ]
  },
  {
   "cell_type": "code",
   "metadata": {
    "id": "naHKCjUoggXS"
   },
   "source": [],
   "execution_count": null,
   "outputs": []
  },
  {
   "cell_type": "markdown",
   "metadata": {
    "id": "Pfpj8CU1ggXU"
   },
   "source": [
    "#### 46. Create a structured array with `x` and `y` coordinates covering the \\[0,1\\]x\\[0,1\\] area (★★☆)"
   ]
  },
  {
   "cell_type": "code",
   "metadata": {
    "id": "UAhFq892ggXU"
   },
   "source": [],
   "execution_count": null,
   "outputs": []
  },
  {
   "cell_type": "markdown",
   "metadata": {
    "id": "wCVIM-v7ggXY"
   },
   "source": [
    "####  47. Given two arrays, X and Y, construct the Cauchy matrix C (Cij =1/(xi - yj))"
   ]
  },
  {
   "cell_type": "code",
   "metadata": {
    "id": "V2OW4KNuggXY"
   },
   "source": [],
   "execution_count": null,
   "outputs": []
  },
  {
   "cell_type": "markdown",
   "metadata": {
    "id": "yXLuTAzNggXa"
   },
   "source": [
    "#### 48. Print the minimum and maximum representable value for each numpy scalar type (★★☆)"
   ]
  },
  {
   "cell_type": "code",
   "metadata": {
    "id": "LkE6ahMQggXa"
   },
   "source": [],
   "execution_count": null,
   "outputs": []
  },
  {
   "cell_type": "markdown",
   "metadata": {
    "id": "Wdxdw790ggXc"
   },
   "source": [
    "#### 49. How to print all the values of an array? (★★☆)"
   ]
  },
  {
   "cell_type": "code",
   "metadata": {
    "id": "KKFjNTKBggXc"
   },
   "source": [],
   "execution_count": null,
   "outputs": []
  },
  {
   "cell_type": "markdown",
   "metadata": {
    "id": "zszpxCqAggXe"
   },
   "source": [
    "#### 50. How to find the closest value (to a given scalar) in a vector? (★★☆)"
   ]
  },
  {
   "cell_type": "code",
   "metadata": {
    "id": "wl6TTa4aggXe"
   },
   "source": [],
   "execution_count": null,
   "outputs": []
  },
  {
   "cell_type": "markdown",
   "metadata": {
    "id": "u6yOpwxkggXh"
   },
   "source": [
    "#### 51. Create a structured array representing a position (x,y) and a color (r,g,b) (★★☆)"
   ]
  },
  {
   "cell_type": "code",
   "metadata": {
    "id": "lvCddVCOggXh"
   },
   "source": [],
   "execution_count": null,
   "outputs": []
  },
  {
   "cell_type": "markdown",
   "metadata": {
    "id": "AMBuSQQHggXj"
   },
   "source": [
    "#### 52. Consider a random vector with shape (100,2) representing coordinates, find point by point distances (★★☆)"
   ]
  },
  {
   "cell_type": "code",
   "metadata": {
    "id": "eaeD5SEXggXj"
   },
   "source": [],
   "execution_count": null,
   "outputs": []
  },
  {
   "cell_type": "markdown",
   "metadata": {
    "id": "5u5JM1JcggXl"
   },
   "source": [
    "#### 53. How to convert a float (32 bits) array into an integer (32 bits) in place?"
   ]
  },
  {
   "cell_type": "code",
   "metadata": {
    "id": "fAitSEqMggXm"
   },
   "source": [],
   "execution_count": null,
   "outputs": []
  },
  {
   "cell_type": "markdown",
   "metadata": {
    "id": "MPs3S5uDggXn"
   },
   "source": [
    "#### 54. How to read the following file? (★★☆)"
   ]
  },
  {
   "cell_type": "markdown",
   "metadata": {
    "id": "qanEF2m4ggXn"
   },
   "source": [
    "```\n",
    "1, 2, 3, 4, 5\n",
    "6,  ,  , 7, 8\n",
    " ,  , 9,10,11\n",
    "```"
   ]
  },
  {
   "cell_type": "code",
   "metadata": {
    "id": "GZMmO2PfggXo"
   },
   "source": [],
   "execution_count": null,
   "outputs": []
  },
  {
   "cell_type": "markdown",
   "metadata": {
    "id": "zx2MrWJYggXp"
   },
   "source": [
    "#### 55. What is the equivalent of enumerate for numpy arrays? (★★☆)"
   ]
  },
  {
   "cell_type": "code",
   "metadata": {
    "id": "T8s3CKxYggXp"
   },
   "source": [],
   "execution_count": null,
   "outputs": []
  },
  {
   "cell_type": "markdown",
   "metadata": {
    "id": "Mj7WlpcJggXq"
   },
   "source": [
    "#### 56. Generate a generic 2D Gaussian-like array (★★☆)"
   ]
  },
  {
   "cell_type": "code",
   "metadata": {
    "id": "5ZShy_fKggXr"
   },
   "source": [],
   "execution_count": null,
   "outputs": []
  },
  {
   "cell_type": "markdown",
   "metadata": {
    "id": "bDblN9VbggXs"
   },
   "source": [
    "#### 57. How to randomly place p elements in a 2D array? (★★☆)"
   ]
  },
  {
   "cell_type": "code",
   "metadata": {
    "id": "tDBWWs1oggXs"
   },
   "source": [],
   "execution_count": null,
   "outputs": []
  },
  {
   "cell_type": "markdown",
   "metadata": {
    "id": "OlalVNZvggXu"
   },
   "source": [
    "#### 58. Subtract the mean of each row of a matrix (★★☆)"
   ]
  },
  {
   "cell_type": "code",
   "metadata": {
    "id": "CQytGVEUggXu"
   },
   "source": [],
   "execution_count": null,
   "outputs": []
  },
  {
   "cell_type": "markdown",
   "metadata": {
    "id": "BZGjd_BlggXv"
   },
   "source": [
    "#### 59. How to sort an array by the nth column? (★★☆)"
   ]
  },
  {
   "cell_type": "code",
   "metadata": {
    "id": "zvE3lWFgggXv"
   },
   "source": [],
   "execution_count": null,
   "outputs": []
  },
  {
   "cell_type": "markdown",
   "metadata": {
    "id": "S1vqCr56ggXz"
   },
   "source": [
    "#### 60. How to tell if a given 2D array has null columns? (★★☆)"
   ]
  },
  {
   "cell_type": "code",
   "metadata": {
    "id": "vjmq9gSwggXz"
   },
   "source": [],
   "execution_count": null,
   "outputs": []
  },
  {
   "cell_type": "markdown",
   "metadata": {
    "id": "CKPxaIf-ggX0"
   },
   "source": [
    "#### 61. Find the nearest value from a given value in an array (★★☆)"
   ]
  },
  {
   "cell_type": "code",
   "metadata": {
    "id": "koDOLIt6ggX0"
   },
   "source": [],
   "execution_count": null,
   "outputs": []
  },
  {
   "cell_type": "markdown",
   "metadata": {
    "id": "DcqphLvgggX1"
   },
   "source": [
    "#### 62. Considering two arrays with shape (1,3) and (3,1), how to compute their sum using an iterator? (★★☆)"
   ]
  },
  {
   "cell_type": "code",
   "metadata": {
    "id": "ziM9i427ggX2"
   },
   "source": [],
   "execution_count": null,
   "outputs": []
  },
  {
   "cell_type": "markdown",
   "metadata": {
    "id": "4CNxPXt5ggX3"
   },
   "source": [
    "#### 63. Create an array class that has a name attribute (★★☆)"
   ]
  },
  {
   "cell_type": "code",
   "metadata": {
    "id": "rWrbDGTpggX4"
   },
   "source": [],
   "execution_count": null,
   "outputs": []
  },
  {
   "cell_type": "markdown",
   "metadata": {
    "id": "E_kDHbgeggX5"
   },
   "source": [
    "#### 64. Consider a given vector, how to add 1 to each element indexed by a second vector (be careful with repeated indices)? (★★★)"
   ]
  },
  {
   "cell_type": "code",
   "metadata": {
    "id": "oS1uRXynggX5"
   },
   "source": [],
   "execution_count": null,
   "outputs": []
  },
  {
   "cell_type": "markdown",
   "metadata": {
    "id": "yBxiHrqLggX7"
   },
   "source": [
    "#### 65. How to accumulate elements of a vector (X) to an array (F) based on an index list (I)? (★★★)"
   ]
  },
  {
   "cell_type": "code",
   "metadata": {
    "id": "4NOCBwjoggX7"
   },
   "source": [],
   "execution_count": null,
   "outputs": []
  },
  {
   "cell_type": "markdown",
   "metadata": {
    "id": "XBBZiSrGggX8"
   },
   "source": [
    "#### 66. Considering a (w,h,3) image of (dtype=ubyte), compute the number of unique colors (★★★)"
   ]
  },
  {
   "cell_type": "code",
   "metadata": {
    "id": "9aZzidOVggX8"
   },
   "source": [],
   "execution_count": null,
   "outputs": []
  },
  {
   "cell_type": "markdown",
   "metadata": {
    "id": "PV78r-1vggX9"
   },
   "source": [
    "#### 67. Considering a four dimensions array, how to get sum over the last two axis at once? (★★★)"
   ]
  },
  {
   "cell_type": "code",
   "metadata": {
    "id": "uEkUcj4QggX-"
   },
   "source": [],
   "execution_count": null,
   "outputs": []
  },
  {
   "cell_type": "markdown",
   "metadata": {
    "id": "0F_0dlXhggYA"
   },
   "source": [
    "#### 68. Considering a one-dimensional vector D, how to compute means of subsets of D using a vector S of same size describing subset  indices? (★★★)"
   ]
  },
  {
   "cell_type": "code",
   "metadata": {
    "id": "rY9ble78ggYA"
   },
   "source": [],
   "execution_count": null,
   "outputs": []
  },
  {
   "cell_type": "markdown",
   "metadata": {
    "id": "SrIORgXSggYC"
   },
   "source": [
    "#### 69. How to get the diagonal of a dot product? (★★★)"
   ]
  },
  {
   "cell_type": "code",
   "metadata": {
    "id": "4fjKK39PggYD"
   },
   "source": [],
   "execution_count": null,
   "outputs": []
  },
  {
   "cell_type": "markdown",
   "metadata": {
    "id": "8PqyvD_HggYE"
   },
   "source": [
    "#### 70. Consider the vector \\[1, 2, 3, 4, 5\\], how to build a new vector with 3 consecutive zeros interleaved between each value? (★★★)"
   ]
  },
  {
   "cell_type": "code",
   "metadata": {
    "id": "xIcy5KFDggYF"
   },
   "source": [],
   "execution_count": null,
   "outputs": []
  },
  {
   "cell_type": "markdown",
   "metadata": {
    "id": "deWhoTefggYG"
   },
   "source": [
    "#### 71. Consider an array of dimension (5,5,3), how to mulitply it by an array with dimensions (5,5)? (★★★)"
   ]
  },
  {
   "cell_type": "code",
   "metadata": {
    "collapsed": true,
    "id": "kr2mbsIOggYG"
   },
   "source": [],
   "execution_count": null,
   "outputs": []
  },
  {
   "cell_type": "markdown",
   "metadata": {
    "id": "AmdSpPYIggYI"
   },
   "source": [
    "#### 72. How to swap two rows of an array? (★★★)"
   ]
  },
  {
   "cell_type": "code",
   "metadata": {
    "id": "SyUvDP8EggYI"
   },
   "source": [],
   "execution_count": null,
   "outputs": []
  },
  {
   "cell_type": "markdown",
   "metadata": {
    "id": "YgFdOxKtggYK"
   },
   "source": [
    "#### 73. Consider a set of 10 triplets describing 10 triangles (with shared vertices), find the set of unique line segments composing all the  triangles (★★★)"
   ]
  },
  {
   "cell_type": "code",
   "metadata": {
    "id": "2dIQqcu0ggYK"
   },
   "source": [],
   "execution_count": null,
   "outputs": []
  },
  {
   "cell_type": "markdown",
   "metadata": {
    "id": "AEhrVmG7ggYL"
   },
   "source": [
    "#### 74. Given an array C that is a bincount, how to produce an array A such that np.bincount(A) == C? (★★★)"
   ]
  },
  {
   "cell_type": "code",
   "metadata": {
    "id": "cIksIQWGggYL"
   },
   "source": [],
   "execution_count": null,
   "outputs": []
  },
  {
   "cell_type": "markdown",
   "metadata": {
    "id": "KdzEPnnWggYM"
   },
   "source": [
    "#### 75. How to compute averages using a sliding window over an array? (★★★)"
   ]
  },
  {
   "cell_type": "code",
   "metadata": {
    "id": "tpKe2qvnggYN"
   },
   "source": [],
   "execution_count": null,
   "outputs": []
  },
  {
   "cell_type": "markdown",
   "metadata": {
    "id": "zssX3d5MggYO"
   },
   "source": [
    "#### 76. Consider a one-dimensional array Z, build a two-dimensional array whose first row is (Z\\[0\\],Z\\[1\\],Z\\[2\\]) and each subsequent row is  shifted by 1 (last row should be (Z\\[-3\\],Z\\[-2\\],Z\\[-1\\]) (★★★)"
   ]
  },
  {
   "cell_type": "code",
   "metadata": {
    "id": "717F81tnggYO"
   },
   "source": [],
   "execution_count": null,
   "outputs": []
  },
  {
   "cell_type": "markdown",
   "metadata": {
    "id": "2dUfkr0NggYP"
   },
   "source": [
    "#### 77. How to negate a boolean, or to change the sign of a float inplace? (★★★)"
   ]
  },
  {
   "cell_type": "code",
   "metadata": {
    "id": "Khjg-oXMggYP"
   },
   "source": [],
   "execution_count": null,
   "outputs": []
  },
  {
   "cell_type": "markdown",
   "metadata": {
    "id": "xntE4xkHggYR"
   },
   "source": [
    "#### 78. Consider 2 sets of points P0,P1 describing lines (2d) and a point p, how to compute distance from p to each line i  (P0\\[i\\],P1\\[i\\])? (★★★)"
   ]
  },
  {
   "cell_type": "code",
   "metadata": {
    "id": "9gqkSs3EggYR"
   },
   "source": [],
   "execution_count": null,
   "outputs": []
  },
  {
   "cell_type": "markdown",
   "metadata": {
    "id": "Qn6TeZ7KggYS"
   },
   "source": [
    "#### 79. Consider 2 sets of points P0,P1 describing lines (2d) and a set of points P, how to compute distance from each point j (P\\[j\\]) to each line i (P0\\[i\\],P1\\[i\\])? (★★★)"
   ]
  },
  {
   "cell_type": "code",
   "metadata": {
    "id": "Os6YU1CSggYS"
   },
   "source": [],
   "execution_count": null,
   "outputs": []
  },
  {
   "cell_type": "markdown",
   "metadata": {
    "id": "gd2PzyC4ggYV"
   },
   "source": [
    "#### 80. Consider an arbitrary array, write a function that extract a subpart with a fixed shape and centered on a given element (pad with a `fill` value when necessary) (★★★)"
   ]
  },
  {
   "cell_type": "code",
   "metadata": {
    "id": "4buiV92iggYW"
   },
   "source": [],
   "execution_count": null,
   "outputs": []
  },
  {
   "cell_type": "markdown",
   "metadata": {
    "id": "EQW9dcZqggYX"
   },
   "source": [
    "#### 81. Consider an array Z = \\[1,2,3,4,5,6,7,8,9,10,11,12,13,14\\], how to generate an array R = \\[\\[1,2,3,4\\], \\[2,3,4,5\\], \\[3,4,5,6\\], ..., \\[11,12,13,14\\]\\]? (★★★)"
   ]
  },
  {
   "cell_type": "code",
   "metadata": {
    "id": "aKoQXTQRggYY"
   },
   "source": [],
   "execution_count": null,
   "outputs": []
  },
  {
   "cell_type": "markdown",
   "metadata": {
    "id": "MH5Qs30QggYa"
   },
   "source": [
    "#### 82. Compute a matrix rank (★★★)"
   ]
  },
  {
   "cell_type": "code",
   "metadata": {
    "id": "c6mKbwbhggYa"
   },
   "source": [],
   "execution_count": null,
   "outputs": []
  },
  {
   "cell_type": "markdown",
   "metadata": {
    "id": "8sDbHGViggYb"
   },
   "source": [
    "#### 83. How to find the most frequent value in an array?"
   ]
  },
  {
   "cell_type": "code",
   "metadata": {
    "id": "5-ht7MD-ggYb"
   },
   "source": [],
   "execution_count": null,
   "outputs": []
  },
  {
   "cell_type": "markdown",
   "metadata": {
    "id": "DFe3sL7SggYd"
   },
   "source": [
    "#### 84. Extract all the contiguous 3x3 blocks from a random 10x10 matrix (★★★)"
   ]
  },
  {
   "cell_type": "code",
   "metadata": {
    "id": "a6XrWF1kggYd"
   },
   "source": [],
   "execution_count": null,
   "outputs": []
  },
  {
   "cell_type": "markdown",
   "metadata": {
    "id": "1fNmStmXggYe"
   },
   "source": [
    "#### 85. Create a 2D array subclass such that Z\\[i,j\\] == Z\\[j,i\\] (★★★)"
   ]
  },
  {
   "cell_type": "code",
   "metadata": {
    "id": "XNeJZzeDggYe"
   },
   "source": [],
   "execution_count": null,
   "outputs": []
  },
  {
   "cell_type": "markdown",
   "metadata": {
    "id": "4IFB6uudggYf"
   },
   "source": [
    "#### 86. Consider a set of p matrices wich shape (n,n) and a set of p vectors with shape (n,1). How to compute the sum of of the p matrix products at once? (result has shape (n,1)) (★★★)"
   ]
  },
  {
   "cell_type": "code",
   "metadata": {
    "id": "3d6375jnggYf"
   },
   "source": [],
   "execution_count": null,
   "outputs": []
  },
  {
   "cell_type": "markdown",
   "metadata": {
    "id": "5aPGtF1eggYg"
   },
   "source": [
    "#### 87. Consider a 16x16 array, how to get the block-sum (block size is 4x4)? (★★★)"
   ]
  },
  {
   "cell_type": "code",
   "metadata": {
    "id": "FEkcl1ctggYh"
   },
   "source": [],
   "execution_count": null,
   "outputs": []
  },
  {
   "cell_type": "markdown",
   "metadata": {
    "id": "szNN63nOggYi"
   },
   "source": [
    "#### 88. How to implement the Game of Life using numpy arrays? (★★★)"
   ]
  },
  {
   "cell_type": "code",
   "metadata": {
    "id": "WjpQMncBggYi"
   },
   "source": [],
   "execution_count": null,
   "outputs": []
  },
  {
   "cell_type": "markdown",
   "metadata": {
    "id": "Wy3kdge7ggYj"
   },
   "source": [
    "#### 89. How to get the n largest values of an array (★★★)"
   ]
  },
  {
   "cell_type": "code",
   "metadata": {
    "id": "IH0W0Os6ggYj"
   },
   "source": [],
   "execution_count": null,
   "outputs": []
  },
  {
   "cell_type": "markdown",
   "metadata": {
    "id": "f7RkRHCOggYo"
   },
   "source": [
    "#### 90. Given an arbitrary number of vectors, build the cartesian product (every combinations of every item) (★★★)"
   ]
  },
  {
   "cell_type": "code",
   "metadata": {
    "scrolled": true,
    "id": "23WIleRIggYp"
   },
   "source": [],
   "execution_count": null,
   "outputs": []
  },
  {
   "cell_type": "markdown",
   "metadata": {
    "id": "gLozR3T-ggYq"
   },
   "source": [
    "#### 91. How to create a record array from a regular array? (★★★)"
   ]
  },
  {
   "cell_type": "code",
   "metadata": {
    "id": "x9ffWCtrggYq"
   },
   "source": [],
   "execution_count": null,
   "outputs": []
  },
  {
   "cell_type": "markdown",
   "metadata": {
    "id": "Da_vYSR5ggYr"
   },
   "source": [
    "#### 92. Consider a large vector Z, compute Z to the power of 3 using 3 different methods (★★★)"
   ]
  },
  {
   "cell_type": "code",
   "metadata": {
    "id": "A9_1BIKXggYr"
   },
   "source": [],
   "execution_count": null,
   "outputs": []
  },
  {
   "cell_type": "markdown",
   "metadata": {
    "id": "xJboRr91ggYu"
   },
   "source": [
    "#### 93. Consider two arrays A and B of shape (8,3) and (2,2). How to find rows of A that contain elements of each row of B regardless of the order of the elements in B? (★★★)"
   ]
  },
  {
   "cell_type": "code",
   "metadata": {
    "id": "0STCHkrSggYv"
   },
   "source": [],
   "execution_count": null,
   "outputs": []
  },
  {
   "cell_type": "markdown",
   "metadata": {
    "id": "iLYyMYruggYx"
   },
   "source": [
    "#### 94. Considering a 10x3 matrix, extract rows with unequal values (e.g. \\[2,2,3\\]) (★★★)"
   ]
  },
  {
   "cell_type": "code",
   "metadata": {
    "id": "Y7npRANNggYx"
   },
   "source": [],
   "execution_count": null,
   "outputs": []
  },
  {
   "cell_type": "markdown",
   "metadata": {
    "id": "o5Jm66vGggYy"
   },
   "source": [
    "#### 95. Convert a vector of ints into a matrix binary representation (★★★)"
   ]
  },
  {
   "cell_type": "code",
   "metadata": {
    "id": "ji1P-IDwggYz"
   },
   "source": [],
   "execution_count": null,
   "outputs": []
  },
  {
   "cell_type": "markdown",
   "metadata": {
    "id": "1J33YSQ1ggY0"
   },
   "source": [
    "#### 96. Given a two dimensional array, how to extract unique rows? (★★★)"
   ]
  },
  {
   "cell_type": "code",
   "metadata": {
    "id": "XJISgYoUggY0"
   },
   "source": [],
   "execution_count": null,
   "outputs": []
  },
  {
   "cell_type": "markdown",
   "metadata": {
    "id": "9JRX4xKAggY1"
   },
   "source": [
    "#### 97. Considering 2 vectors A & B, write the einsum equivalent of inner, outer, sum, and mul function (★★★)"
   ]
  },
  {
   "cell_type": "code",
   "metadata": {
    "id": "2-Q3Ua3TggY1"
   },
   "source": [],
   "execution_count": null,
   "outputs": []
  },
  {
   "cell_type": "markdown",
   "metadata": {
    "id": "1aYP_wg3ggY2"
   },
   "source": [
    "#### 98. Considering a path described by two vectors (X,Y), how to sample it using equidistant samples (★★★)?"
   ]
  },
  {
   "cell_type": "code",
   "metadata": {
    "collapsed": true,
    "id": "sZur1XFYggY3"
   },
   "source": [],
   "execution_count": null,
   "outputs": []
  },
  {
   "cell_type": "markdown",
   "metadata": {
    "id": "84tT4JzYggY4"
   },
   "source": [
    "#### 99. Given an integer n and a 2D array X, select from X the rows which can be interpreted as draws from a multinomial distribution with n degrees, i.e., the rows which only contain integers and which sum to n. (★★★)"
   ]
  },
  {
   "cell_type": "code",
   "metadata": {
    "id": "FLXhxX0wggY4"
   },
   "source": [],
   "execution_count": null,
   "outputs": []
  },
  {
   "cell_type": "markdown",
   "metadata": {
    "id": "YiG_xnVaggY6"
   },
   "source": [
    "#### 100. Compute bootstrapped 95% confidence intervals for the mean of a 1D array X (i.e., resample the elements of an array with replacement N times, compute the mean of each sample, and then compute percentiles over the means). (★★★)"
   ]
  },
  {
   "cell_type": "code",
   "metadata": {
    "id": "eUOTLSf5ggY6"
   },
   "source": [],
   "execution_count": null,
   "outputs": []
  }
 ]
}
